{
 "cells": [
  {
   "cell_type": "markdown",
   "metadata": {},
   "source": [
    "# Kata 8"
   ]
  },
  {
   "cell_type": "markdown",
   "metadata": {},
   "source": [
    "Ejercicio 1"
   ]
  },
  {
   "cell_type": "code",
   "execution_count": 5,
   "metadata": {},
   "outputs": [
    {
     "name": "stdout",
     "output_type": "stream",
     "text": [
      "Nombre: Mars\n",
      "Lunas: 2\n",
      "Nombre: Mars\n",
      "Circunferencia: 6752\n"
     ]
    }
   ],
   "source": [
    "#Crea un diccionario con los datos propuestos\n",
    "planet = {\n",
    "    \"name\" : \"Mars\",\n",
    "    \"moons\" : 2\n",
    "}\n",
    "# Muestra el nombre del planeta y el número de lunas que tiene.\n",
    "print(f\"Nombre: {planet['name']}\")\n",
    "print(f\"Lunas: {planet['moons']}\")\n",
    "#Agrega la clave circunferencia con los datos proporcionados\n",
    "planet[\"circunferencia (km)\"] = {\n",
    "    \"polar\" : 6752,\n",
    "    \"equatorial\" : 6792\n",
    "}\n",
    "#Muestra el nombre con su circunferencia polar\n",
    "print(f\"Nombre: {planet['name']}\\nCircunferencia: {planet['circunferencia (km)']['polar']}\")\n"
   ]
  },
  {
   "cell_type": "markdown",
   "metadata": {},
   "source": [
    "Ejercicio 2"
   ]
  },
  {
   "cell_type": "code",
   "execution_count": 7,
   "metadata": {},
   "outputs": [
    {
     "name": "stdout",
     "output_type": "stream",
     "text": [
      "Lunas totales: 214 Planetas: 12 Promedio: 17.833333333333332\n"
     ]
    }
   ],
   "source": [
    "# Planets and moons\n",
    "\n",
    "planet_moons = {\n",
    "    'mercury': 0,\n",
    "    'venus': 0,\n",
    "    'earth': 1,\n",
    "    'mars': 2,\n",
    "    'jupiter': 79,\n",
    "    'saturn': 82,\n",
    "    'uranus': 27,\n",
    "    'neptune': 14,\n",
    "    'pluto': 5,\n",
    "    'haumea': 2,\n",
    "    'makemake': 1,\n",
    "    'eris': 1\n",
    "}\n",
    "moons = planet_moons.values()\n",
    "planets = len(planet_moons.keys())\n",
    "# Agrega el código para contar el número de lunas\n",
    "total_moons = 0\n",
    "for i in moons:\n",
    "    total_moons = total_moons + i\n",
    "\n",
    "average = total_moons / planets\n",
    "print(f\"Lunas totales: {total_moons} Planetas: {planets} Promedio: {average}\")\n",
    "\n"
   ]
  }
 ],
 "metadata": {
  "interpreter": {
   "hash": "eeecbdcb36233e2fcbab9f6769ae217514c6a1666bb0c786a66fb80ba08763d1"
  },
  "kernelspec": {
   "display_name": "Python 3.10.0 64-bit",
   "language": "python",
   "name": "python3"
  },
  "language_info": {
   "codemirror_mode": {
    "name": "ipython",
    "version": 3
   },
   "file_extension": ".py",
   "mimetype": "text/x-python",
   "name": "python",
   "nbconvert_exporter": "python",
   "pygments_lexer": "ipython3",
   "version": "3.10.0"
  },
  "orig_nbformat": 4
 },
 "nbformat": 4,
 "nbformat_minor": 2
}
