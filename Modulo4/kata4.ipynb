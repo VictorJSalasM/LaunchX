{
 "cells": [
  {
   "cell_type": "markdown",
   "metadata": {},
   "source": [
    "# Modulo 4\n",
    "Por Victor Jair Salas"
   ]
  },
  {
   "cell_type": "markdown",
   "metadata": {},
   "source": [
    "### E1: Transformar cadenas"
   ]
  },
  {
   "cell_type": "code",
   "execution_count": 159,
   "metadata": {},
   "outputs": [],
   "source": [
    "text = \"\"\"Interesting facts about the Moon. The Moon is Earth's only satellite. There are several interesting facts about the Moon C and how it affects life here on Earth. On average, the Moon moves 4cm away from the Earth every year. This yearly drift is not significant enough\"\"\"\n",
    "text1 = text.split(\".\")"
   ]
  },
  {
   "cell_type": "code",
   "execution_count": 160,
   "metadata": {},
   "outputs": [
    {
     "name": "stdout",
     "output_type": "stream",
     "text": [
      "Se encontró la palabra: average\n",
      " There are several interesting facts about the Moon Celsius and how it affects life here on Earth\n"
     ]
    }
   ],
   "source": [
    "#Dividir el texto para trabajar en su contenido\n",
    "\n",
    "#Definir palabras clave para busqueda\n",
    "palabrasClave = {\"average\", \"temperature\", \"distance\"}\n",
    "#Ciclo para recorrer cadena\n",
    "for i in text1:\n",
    "    for j in palabrasClave:\n",
    "        if j in i:\n",
    "            print(f\"Se encontró la palabra: {j}\")\n",
    "#Ciclo para cambiar C a celsius\n",
    "for i in text1:  \n",
    "    if \"C\" in i:\n",
    "        print(i.replace(\"C\",\"Celsius\"))\n",
    "\n"
   ]
  },
  {
   "cell_type": "markdown",
   "metadata": {},
   "source": [
    "### Ejemplo 2"
   ]
  },
  {
   "cell_type": "code",
   "execution_count": 161,
   "metadata": {},
   "outputs": [],
   "source": [
    "# Datos con los que vas a trabajar\n",
    "name = \"Moon\"\n",
    "gravity = 0.00162 # in kms\n",
    "planet = \"Earth\""
   ]
  },
  {
   "cell_type": "code",
   "execution_count": 162,
   "metadata": {},
   "outputs": [
    {
     "name": "stdout",
     "output_type": "stream",
     "text": [
      "Gravity Facts About Moon\n",
      "-------------------------\n",
      "Planet Name: Earth\n",
      "Gravity on Moon: 1.6199999999999999 m/s2\n",
      "\n",
      "Gravity Facts About Ganímedes\n",
      "-------------------------\n",
      "Planet Name: Marte \n",
      "Gravity on Ganymede: 1.43 m/s2\n",
      "\n"
     ]
    }
   ],
   "source": [
    "#Creamos el titulo:\n",
    "titulo = f\"\"\"Gravity facts about {name}\\n{\"-\"*25}\\n\"\"\"\n",
    "#Creamos la plantilla\n",
    "hechos = f\"\"\"Planet Name: {planet}\\nGravity on {name}: {gravity*1000} m/s2\\n\"\"\"\n",
    "#Union de ambas cadenas\n",
    "plantilla = f\"\"\"{titulo.title()}{hechos}\"\"\"\n",
    "#Comprobar la cadena\n",
    "planeta = 'Marte '\n",
    "gravedad  = 0.00143\n",
    "nombre = 'Ganímedes'\n",
    "print(plantilla)\n",
    "#Nueva plantilla\n",
    "nuevaPlantilla = f\"\"\"Gravity Facts About {nombre}\n",
    "{\"-\"*25}\n",
    "Planet Name: {planeta}\n",
    "Gravity on Ganymede: {round((gravedad*1000)/1,2)} m/s2\\n\"\"\"\n",
    "print(nuevaPlantilla)\n",
    "\n"
   ]
  }
 ],
 "metadata": {
  "interpreter": {
   "hash": "eeecbdcb36233e2fcbab9f6769ae217514c6a1666bb0c786a66fb80ba08763d1"
  },
  "kernelspec": {
   "display_name": "Python 3.10.0 64-bit",
   "language": "python",
   "name": "python3"
  },
  "language_info": {
   "codemirror_mode": {
    "name": "ipython",
    "version": 3
   },
   "file_extension": ".py",
   "mimetype": "text/x-python",
   "name": "python",
   "nbconvert_exporter": "python",
   "pygments_lexer": "ipython3",
   "version": "3.10.0"
  },
  "orig_nbformat": 4
 },
 "nbformat": 4,
 "nbformat_minor": 2
}
