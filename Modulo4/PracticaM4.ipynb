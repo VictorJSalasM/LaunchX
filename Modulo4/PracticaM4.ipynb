{
 "cells": [
  {
   "cell_type": "markdown",
   "metadata": {},
   "source": [
    "## Cadenas"
   ]
  },
  {
   "cell_type": "markdown",
   "metadata": {},
   "source": [
    "Las cadenas en python son inmutables\n",
    "Para tener una cadena modificada debe ser asignada a otra variable"
   ]
  },
  {
   "cell_type": "code",
   "execution_count": null,
   "metadata": {},
   "outputs": [],
   "source": [
    "fact = \"La luna no tiene atmosfera\"\n",
    "fact+\" Ningun sonido puede ser escuchado en la luna\"\n",
    "#print(fact)\n",
    "twoFacts = fact + \" Ningun sonido puede ser escuchado en la luna\"\n",
    "print(twoFacts)"
   ]
  },
  {
   "cell_type": "markdown",
   "metadata": {},
   "source": [
    "Se pueden usar comillas simples, dobles o triples dependiendo de la cadena"
   ]
  },
  {
   "cell_type": "code",
   "execution_count": null,
   "metadata": {},
   "outputs": [],
   "source": [
    "#Salto de linea con \\n\n",
    "multiline = \"Hechos acerca de la luna: \\nNo hay atmosfera \\nNo hay sonido\"\n",
    "print(multiline)"
   ]
  },
  {
   "cell_type": "code",
   "execution_count": null,
   "metadata": {},
   "outputs": [],
   "source": [
    "#Con comillas triples el texto es mostrado tal cual se escribe\n",
    "multiline2 = \"\"\"Hechos acerca de la luna:\n",
    "No hay atmosfera.\n",
    "No hay sonido.\n",
    "hola\"\"\"\n",
    "print(multiline2)"
   ]
  },
  {
   "cell_type": "markdown",
   "metadata": {},
   "source": [
    "Metodos string"
   ]
  },
  {
   "cell_type": "code",
   "execution_count": null,
   "metadata": {},
   "outputs": [],
   "source": [
    "#.title()\n",
    "titulo = \"hola cOMo estaN\".title()\n",
    "#El title se pone en la cadena o en la variable\n",
    "#Te da la primera en mayus y las demas en minus\n",
    "print(titulo.title())"
   ]
  },
  {
   "cell_type": "code",
   "execution_count": null,
   "metadata": {},
   "outputs": [],
   "source": [
    "#.split()\n",
    "#Divide una cadena en elementos de una lista por cada espacio\n",
    "temperatura = \"\"\"Luz de día: 260 °F\n",
    "hola\n",
    "dos\"\"\"\n",
    "print(temperatura.split()) #Lo separa por espacios\n",
    "print(temperatura.split(\"\\n\")) #Lo separa por saltos de linea"
   ]
  },
  {
   "cell_type": "code",
   "execution_count": null,
   "metadata": {},
   "outputs": [],
   "source": [
    "#.find(\"String a buscar\")\n",
    "hola = 'hola' in 'hola como estamos'\n",
    "print(hola) #Es un booleano y es true\n",
    "cadenaPrueba = \"Este es un texto de ejemplo\"\n",
    "print(cadenaPrueba.find(\"texto\")) #Devuelve la posición de la palabra\n",
    "print(cadenaPrueba.find(\"mayonesa\")) #Devuelve -1 porque la palabra no se encuentra en la cadena"
   ]
  },
  {
   "cell_type": "code",
   "execution_count": null,
   "metadata": {},
   "outputs": [],
   "source": [
    "#count(\"String a buscar por repeticiones\")\n",
    "adios = 'adios adios adios hola hola adioso'\n",
    "print(adios.count('adios'))#Devuelve 4 porque son las veces que ha encontrado 'adios', asi tenga un espacio al lado o una letra como adioso, si las 5 letras de adios estan juntas, las cuenta\n",
    "print(adios.count('buenas'))#0 porque no hay incidencias"
   ]
  },
  {
   "cell_type": "code",
   "execution_count": null,
   "metadata": {},
   "outputs": [],
   "source": [
    "#.lower()\n",
    "#Te da toda la cadena en minuscula\n",
    "#.upper()\n",
    "#Te da toda la cadena en MAYUSCULA\n",
    "saludo = \"bUenOs dIas\"\n",
    "print(saludo.lower()) #todo en minus\n",
    "print(saludo.upper()) #TODO EN MAYUS\n"
   ]
  },
  {
   "cell_type": "markdown",
   "metadata": {},
   "source": [
    "Tip: Si una cadena tiene algo como 'La' y tu quieres buscar la, lA, LA, etc\n",
    "Puedes aplicar el .lower() y despues ya buscar con .count()"
   ]
  },
  {
   "cell_type": "code",
   "execution_count": null,
   "metadata": {},
   "outputs": [],
   "source": [
    "holas = \"la La LA lA\"\n",
    "print(holas.count(\"la\")) #Te devuelve 1\n",
    "print(holas.lower().count('la')) #Te devuelve 4"
   ]
  },
  {
   "cell_type": "code",
   "execution_count": null,
   "metadata": {},
   "outputs": [],
   "source": [
    "temperaturas = \"Marte Temperatura Promedio: -60 C\".split(\":\")\n",
    "print(temperaturas)\n",
    "#Te devuelve una lista separando lo que este entre \":\"\n",
    "print(temperaturas[-1])\n",
    "print(temperaturas[0])\n",
    "print(temperaturas[1])\n",
    "#0 el primer valor de la lista\n",
    "#1 el segundo valor de la lista\n",
    "#-1 el ultimo valor de la lista, en este caso el segundo"
   ]
  },
  {
   "cell_type": "code",
   "execution_count": null,
   "metadata": {},
   "outputs": [],
   "source": [
    "#.isnumeric() devuelve true o false en caso de que el elemento sea numerico\n",
    "#.isdecimal() devuelve true o false en caso de que el elemento sea decimal\n",
    "temperaturaMarte = \"La temperatura es 30\"\n",
    "print(temperaturaMarte.split())\n",
    "for item in temperaturaMarte.split():\n",
    "    if item.isnumeric():\n",
    "        print(item)\n",
    "    if item.isdecimal():\n",
    "        print(item)\n",
    "#Divide la cadena en 4 elementos de una lista e imprime el elemento que sea numerico"
   ]
  },
  {
   "cell_type": "code",
   "execution_count": null,
   "metadata": {},
   "outputs": [],
   "source": [
    "#.startwitch() \n",
    "#.endswith()\n",
    "#Los dos son boolean, uno de confirma si empieza con ese caracter, otro si termina\n",
    "if \"Hola\".startswith(\"H\"):\n",
    "    print(\"Si\")\n",
    "if \"Adios\".endswith(\"s\"):\n",
    "    print(\"Si\")"
   ]
  },
  {
   "cell_type": "code",
   "execution_count": null,
   "metadata": {},
   "outputs": [],
   "source": [
    "#.replace()\n",
    "#Reemplaza el string que le das en el metodo, no se guarda en la misma variable si no que debes guardarlo en otra variable\n",
    "cadena = \"Saturno tiene una temperatura de 35° Celsius, mientras que Marte 28° Celsius\".replace(\"Celsius\", \"Fahrenheit\")\n",
    "print(\"fahrenheit\" in cadena)\n",
    "print(\"fahrenheit\" in cadena.lower())\n"
   ]
  },
  {
   "cell_type": "code",
   "execution_count": null,
   "metadata": {},
   "outputs": [],
   "source": [
    "#\"string que une\".join(variable o lista)\n",
    "#Este metodo se utiliza para juntar las partes de una lista en una sola string\n",
    "#\n",
    "moon_facts = ['The Moon is drifting away from the Earth.', 'On average, the Moon is moving about 4cm every year']\n",
    "'\\n'.join(moon_facts)\n",
    "\n",
    "print(\" \".join(moon_facts))\n",
    "lista = [\"Hola\",\"como\",\"estas\"]\n",
    "print(\" \".join(lista))#Con espacio Hola como estas\n",
    "print(\"\".join(lista))#Sin espácio Holacomoestas"
   ]
  },
  {
   "cell_type": "code",
   "execution_count": null,
   "metadata": {},
   "outputs": [],
   "source": [
    "#Formato de cadenas con %s\n",
    "porcentajeMasa = \"1/6\"\n",
    "print(\"En la luna hay un %s de masa respecto a la tierra\" % porcentajeMasa)\n",
    "print(\"La %s para el %s es la siguiente: %s compramos esto\" % (\"lista\",\"super\",\"Primero\"))"
   ]
  },
  {
   "cell_type": "markdown",
   "metadata": {},
   "source": [
    "Basicamente funcionan igual pero es mas recomendable usar el .format que usa {}\n",
    "\n",
    ".format() = {} \n",
    "\n",
    "%() = %s"
   ]
  },
  {
   "cell_type": "code",
   "execution_count": 45,
   "metadata": {},
   "outputs": [
    {
     "name": "stdout",
     "output_type": "stream",
     "text": [
      "Hola 1/6 como estas\n",
      "En la luna hay un 1/6 de masa respecto a la tierra\n",
      "La lista para el super es la siguiente: Primero compramos esto\n",
      "Primero: 1° Primero: 1° Segundo: 2° Tercero: 3° Primero: 1° Tercero: 3° Segundo: 2°\n",
      "Primero: 1 Primero: 1 Segundo: 2° Tercero: 3° Primero: 1 Tercero: 3° Segundo: 2°\n",
      "En la luna hay un 1/6 de masa respecto a la tierra\n",
      "En la luna hay un 16.67% de masa respecto a la tierra\n"
     ]
    }
   ],
   "source": [
    "#Formato de cadenas con .format()\n",
    "porcentajeMasa = \"1/6\"\n",
    "print(\"Hola \"+porcentajeMasa+\" como estas\")\n",
    "print(\"En la luna hay un {} de masa respecto a la tierra\".format(porcentajeMasa))\n",
    "print(\"La {} para el {} es la siguiente: {} compramos esto\".format(\"lista\",\"super\",\"Primero\"))\n",
    "print(\"Primero: {0} Primero: {0} Segundo: {1} Tercero: {2} Primero: {0} Tercero: {2} Segundo: {1}\".format(\"1°\",\"2°\",\"3°\"))\n",
    "print(\"Primero: {first} Primero: {first} Segundo: {second} Tercero: {third} Primero: {first} Tercero: {third} Segundo: {second}\".format(first =1,second=\"2°\",third=\"3°\"))\n",
    "#Podemos reemplazar los indices {0} (\"primero\",x,x) por variables {cero} cero = primero\n",
    "\n",
    "#Con la f podemos poner la variable en una llave\n",
    "print(f\"En la luna hay un {porcentajeMasa} de masa respecto a la tierra\")\n",
    "print(f\"En la luna hay un {round(100/6,2)}% de masa respecto a la tierra\")"
   ]
  }
 ],
 "metadata": {
  "interpreter": {
   "hash": "eeecbdcb36233e2fcbab9f6769ae217514c6a1666bb0c786a66fb80ba08763d1"
  },
  "kernelspec": {
   "display_name": "Python 3.10.0 64-bit",
   "language": "python",
   "name": "python3"
  },
  "language_info": {
   "codemirror_mode": {
    "name": "ipython",
    "version": 3
   },
   "file_extension": ".py",
   "mimetype": "text/x-python",
   "name": "python",
   "nbconvert_exporter": "python",
   "pygments_lexer": "ipython3",
   "version": "3.10.0"
  },
  "orig_nbformat": 4
 },
 "nbformat": 4,
 "nbformat_minor": 2
}
