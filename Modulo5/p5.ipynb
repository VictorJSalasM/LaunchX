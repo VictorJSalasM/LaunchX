{
 "cells": [
  {
   "cell_type": "markdown",
   "metadata": {},
   "source": [
    "## Operadores aritméticos\n",
    "Por Victor Jair Salas"
   ]
  },
  {
   "cell_type": "code",
   "execution_count": null,
   "metadata": {},
   "outputs": [],
   "source": [
    "#suma\n",
    "suma = 30+12\n",
    "print(f\"Suma: {suma}\")\n",
    "\n",
    "#resta\n",
    "resta = 30-12\n",
    "print(f\"Resta: {resta}\")\n",
    "\n",
    "#multiplicacion\n",
    "multi = 30*12\n",
    "print(f\"Multiplicación: {multi}\")\n",
    "\n",
    "#división\n",
    "division = 30/12\n",
    "print(f\"División: {division}\")\n"
   ]
  },
  {
   "cell_type": "code",
   "execution_count": null,
   "metadata": {},
   "outputs": [],
   "source": [
    "#Trabajar con división\n",
    "segundos = 1042\n",
    "minutos = 1042 // 60\n",
    "#/ para dividir con decimal // para dividir hacia abajo\n",
    "segRestantes = 1042 % 60\n",
    "print(f\"{segundos} segundos es igual a {minutos} minutos con {segRestantes} segundos\")\n",
    "segRestantes = 1042 % 60"
   ]
  },
  {
   "cell_type": "code",
   "execution_count": null,
   "metadata": {},
   "outputs": [],
   "source": [
    "#Jerarquía de operaciones\n",
    "#1. Parentesis\n",
    "#2. Exponentes y raices\n",
    "#3. Multiplicación y div\n",
    "#4. Suma y resta\n",
    "resultado_1 = 10 * 24 + 12 / 20 #240.6\n",
    "resultado_2 = 10 * (24 + 12) / 20 #18\n",
    "print(resultado_1)\n",
    "print(resultado_2)"
   ]
  },
  {
   "cell_type": "code",
   "execution_count": null,
   "metadata": {},
   "outputs": [],
   "source": [
    "#Conv cadenas a num\n",
    "demo_int = int(\"43\") #No puedes poner decimales, para eso está el float\n",
    "print(demo_int)\n",
    "demo_float = float(\"214.43\")\n",
    "print(demo_float)"
   ]
  },
  {
   "cell_type": "code",
   "execution_count": null,
   "metadata": {},
   "outputs": [],
   "source": [
    "#Valores absolutos\n",
    "abs1 = abs(39-16)\n",
    "abs2 = abs(16-39)\n",
    "print(abs1)\n",
    "print(abs2)\n",
    "#Nos da el numero sin signo"
   ]
  },
  {
   "cell_type": "code",
   "execution_count": null,
   "metadata": {},
   "outputs": [],
   "source": [
    "#Redondeo\n",
    "red1 = round(16 / 7)\n",
    "red2 = round(12.51)\n",
    "red3 = round(15.2392342342,2) # round(num,decimales)\n",
    "print(red1)\n",
    "print(red2)\n",
    "print(red3)"
   ]
  },
  {
   "cell_type": "code",
   "execution_count": null,
   "metadata": {},
   "outputs": [],
   "source": [
    "#Biblioteca math\n",
    "from math import ceil, floor\n",
    "redArriba = ceil(12.5)\n",
    "print(redArriba)\n",
    "redAbajo = floor(12.5)\n",
    "print(redAbajo)\n",
    "#ceil nos permite redondear arriba ceil(12.3) = 13\n",
    "#floor nos permite redondear abajo floor(12.9) = 12"
   ]
  }
 ],
 "metadata": {
  "interpreter": {
   "hash": "eeecbdcb36233e2fcbab9f6769ae217514c6a1666bb0c786a66fb80ba08763d1"
  },
  "kernelspec": {
   "display_name": "Python 3.10.0 64-bit",
   "language": "python",
   "name": "python3"
  },
  "language_info": {
   "codemirror_mode": {
    "name": "ipython",
    "version": 3
   },
   "file_extension": ".py",
   "mimetype": "text/x-python",
   "name": "python",
   "nbconvert_exporter": "python",
   "pygments_lexer": "ipython3",
   "version": "3.10.0"
  },
  "orig_nbformat": 4
 },
 "nbformat": 4,
 "nbformat_minor": 2
}
