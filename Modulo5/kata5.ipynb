{
 "cells": [
  {
   "cell_type": "markdown",
   "metadata": {},
   "source": [
    "# Modulo 5\n",
    "Por Victor Jair Salas"
   ]
  },
  {
   "cell_type": "markdown",
   "metadata": {},
   "source": [
    "Ejercicio 1"
   ]
  },
  {
   "cell_type": "code",
   "execution_count": 11,
   "metadata": {},
   "outputs": [
    {
     "name": "stdout",
     "output_type": "stream",
     "text": [
      "Distancia entre los dos planetas: 628949330 km\n",
      "Distancia entre los dos planetas: 390577533.93 Mi\n"
     ]
    }
   ],
   "source": [
    "#Calcular distancia entre Tierra y Júpiter\n",
    "tierra = 149597870\n",
    "jupiter = 778547200\n",
    "distanciaKm = abs(tierra-jupiter)\n",
    "#Convertir distancia a millas\n",
    "distanciaMi = distanciaKm*0.621\n",
    "print(f\"Distancia entre los dos planetas: {distanciaKm} km\")\n",
    "print(f\"Distancia entre los dos planetas: {distanciaMi} Mi\")"
   ]
  },
  {
   "cell_type": "markdown",
   "metadata": {},
   "source": [
    "Ejercicio 2"
   ]
  },
  {
   "cell_type": "code",
   "execution_count": 12,
   "metadata": {},
   "outputs": [
    {
     "name": "stdout",
     "output_type": "stream",
     "text": [
      "Distancia: 4437200000 KM\n",
      "Distancia: 2755501200.0 MI\n"
     ]
    }
   ],
   "source": [
    "#Leer valores y convertir a número\n",
    "p1 = int(input(\"Planeta 1: \"))\n",
    "p2 = int(input(\"Planeta 2: \"))\n",
    "#Convertir valor absoluto\n",
    "distp1p2km = abs(p1-p2)\n",
    "#Realizar cálculo\n",
    "distp1p2mi = distp1p2km * 0.621\n",
    "#Km a millas\n",
    "print(f\"Distancia: {distp1p2km} KM\")\n",
    "print(f\"Distancia: {distp1p2mi} MI\")\n",
    "\n"
   ]
  }
 ],
 "metadata": {
  "interpreter": {
   "hash": "eeecbdcb36233e2fcbab9f6769ae217514c6a1666bb0c786a66fb80ba08763d1"
  },
  "kernelspec": {
   "display_name": "Python 3.10.0 64-bit",
   "language": "python",
   "name": "python3"
  },
  "language_info": {
   "codemirror_mode": {
    "name": "ipython",
    "version": 3
   },
   "file_extension": ".py",
   "mimetype": "text/x-python",
   "name": "python",
   "nbconvert_exporter": "python",
   "pygments_lexer": "ipython3",
   "version": "3.10.0"
  },
  "orig_nbformat": 4
 },
 "nbformat": 4,
 "nbformat_minor": 2
}
