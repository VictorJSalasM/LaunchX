{
 "cells": [
  {
   "cell_type": "markdown",
   "metadata": {},
   "source": [
    "# Kata 6\n",
    "Por Victor Jair Salas"
   ]
  },
  {
   "cell_type": "markdown",
   "metadata": {},
   "source": [
    "Ejercicio 1"
   ]
  },
  {
   "cell_type": "code",
   "execution_count": 13,
   "metadata": {},
   "outputs": [
    {
     "name": "stdout",
     "output_type": "stream",
     "text": [
      "En total hay 8 planetas\n",
      "Pluton\n"
     ]
    }
   ],
   "source": [
    "\n",
    "#Ejercicio 1 Crear y usar listas \n",
    "#Crear nueva lista y mostrar\n",
    "planets = [\"Mercurio\", \"Venus\", \"Tierra\", \"Marte\", \"Jupiter\", \"Saturno\", \"Urano\", \"Neptuno\"]\n",
    "print(\"En total hay\",len(planets),\"planetas\")\n",
    "#Agregar a pluton y mostrar ultimo elemento\n",
    "planets.append(\"Pluton\")\n",
    "print(planets[-1])\n"
   ]
  },
  {
   "cell_type": "markdown",
   "metadata": {},
   "source": [
    "Ejercicio 2"
   ]
  },
  {
   "cell_type": "code",
   "execution_count": 14,
   "metadata": {},
   "outputs": [
    {
     "name": "stdout",
     "output_type": "stream",
     "text": [
      "El indice del planeta buscado es:  3\n",
      "Los planetas mas cercanos son:  ['Mercurio', 'Venus', 'Tierra']\n",
      "Los planetas mas lejanos son:  ['Jupiter', 'Saturno', 'Urano', 'Neptuno']\n"
     ]
    }
   ],
   "source": [
    "#Ejercicio 2\n",
    "planets = [\"Mercurio\", \"Venus\", \"Tierra\", \"Marte\", \"Jupiter\", \"Saturno\", \"Urano\", \"Neptuno\"]\n",
    "#Solicitar nombre al usuario\n",
    "decision = input(\"Ingresa el nombre del planeta que quieras buscar:\")\n",
    "decision = planets.index(decision)\n",
    "#Encontrar el planeta\n",
    "print(\"El indice del planeta buscado es: \", decision)\n",
    "#Mostrar planetas mas cercanos\n",
    "print(\"Los planetas mas cercanos son: \",planets[0:decision])\n",
    "#Mostrar planetas mas lejanos\n",
    "print(\"Los planetas mas lejanos son: \",planets[decision+1:])\n",
    "\n"
   ]
  }
 ],
 "metadata": {
  "interpreter": {
   "hash": "eeecbdcb36233e2fcbab9f6769ae217514c6a1666bb0c786a66fb80ba08763d1"
  },
  "kernelspec": {
   "display_name": "Python 3.10.0 64-bit",
   "language": "python",
   "name": "python3"
  },
  "language_info": {
   "codemirror_mode": {
    "name": "ipython",
    "version": 3
   },
   "file_extension": ".py",
   "mimetype": "text/x-python",
   "name": "python",
   "nbconvert_exporter": "python",
   "pygments_lexer": "ipython3",
   "version": "3.10.0"
  },
  "orig_nbformat": 4
 },
 "nbformat": 4,
 "nbformat_minor": 2
}
