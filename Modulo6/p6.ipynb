{
 "cells": [
  {
   "cell_type": "markdown",
   "metadata": {},
   "source": [
    "# Práctica 6"
   ]
  },
  {
   "cell_type": "code",
   "execution_count": null,
   "metadata": {},
   "outputs": [],
   "source": [
    "#Listas\n",
    "planetas = [\"Mercurio\", \"Venus\", \"Tierra\", \"Marte\", \"Jupiter\", \"Saturno\", \"Urano\", \"Neptuno\"]\n",
    "print(\"El primer planeta es: \", planetas[0])\n",
    "print(\"El segundo planeta es: \", planetas[1])\n",
    "print(\"El segundo planeta es: \", planetas[2])\n",
    "#El contenido tambien es mutable\n",
    "planetas[3] = \"Planeta rojo\"\n",
    "print(\"Marte es tambien conocido como\", planetas[3])\n",
    "#Longitud de una lista \n",
    "numeroDePlanetas = len(planetas)\n",
    "print(\"Hay\", numeroDePlanetas, \"planetas en el sistema solar\")\n",
    "#Agregar a la ultima posición\n",
    "print(planetas)\n",
    "planetas.append(\"Pluton\")\n",
    "numeroDePlanetas = len(planetas)\n",
    "print(numeroDePlanetas)\n",
    "print(planetas)\n",
    "#Eliminar el ultimo elemento\n",
    "planetas.pop()\n",
    "numeroDePlanetas = len(planetas)\n",
    "print(numeroDePlanetas)\n",
    "print(planetas)\n"
   ]
  },
  {
   "cell_type": "code",
   "execution_count": null,
   "metadata": {},
   "outputs": [],
   "source": [
    "#Indices negativos\n",
    "#Imprime la ultima posición\n",
    "print(planetas[-1])\n",
    "print(planetas[-2])\n",
    "#Buscar el valor de una lista\n",
    "print(planetas.index(\"Neptuno\"))\n"
   ]
  },
  {
   "cell_type": "code",
   "execution_count": 31,
   "metadata": {},
   "outputs": [
    {
     "name": "stdout",
     "output_type": "stream",
     "text": [
      "En mercurio el peso es de:  94.5\n",
      "El peso mas alto es:  590.0\n",
      "El peso mas bajo es:  94.5\n",
      "El tercer, cuarto y quinto planeta son:  ['Neptuno', 'Planeta rojo', 'Saturno']\n",
      "['Jupiter', 'Mercurio', 'Neptuno', 'Planeta rojo', 'Saturno', 'Tierra', 'Urano', 'Venus']\n",
      "['a', 'aa', 'b', 'f', 't', 'w', 'x', 'xa', 'y', 'z']\n",
      "['z', 'y', 'xa', 'x', 'w', 't', 'f', 'b', 'aa', 'a']\n"
     ]
    }
   ],
   "source": [
    "gravedadTierra = 1\n",
    "gravedadLuna = 0.166\n",
    "gravedadPlanetas = [0.378, 0.907, 1, 0.379, 2.36, 0.916, 0.889, 1.12]\n",
    "autobus = 250 #kg en la tierra\n",
    "print(\"En mercurio el peso es de: \", (autobus * gravedadPlanetas[0]))\n",
    "#Valor min y valor max\n",
    "print(\"El peso mas alto es: \", max(gravedadPlanetas)*autobus)\n",
    "print(\"El peso mas bajo es: \", min(gravedadPlanetas)*autobus)\n",
    "#Slice [primer numero:segundo numero + 1] Crea una nueva lista, no la modifica\n",
    "print(\"El tercer, cuarto y quinto planeta son: \", planetas[2:5])\n",
    "#Ordenar listas con sort\n",
    "planetas.sort()\n",
    "print(planetas)\n",
    "abecedario1 = [\"a\", \"b\", \"z\", \"x\", \"w\"]\n",
    "abecedario2 = [\"t\", \"y\", \"f\", \"xa\", \"aa\"]\n",
    "abecedario3 = abecedario1 + abecedario2\n",
    "abecedario3.sort()#Hay que darle el sort y luego imprimir, no ponerle el sort dentro del print\n",
    "print(abecedario3)\n",
    "abecedario3.sort(reverse=True)#Al reverso\n",
    "print(abecedario3)\n",
    "\n"
   ]
  }
 ],
 "metadata": {
  "interpreter": {
   "hash": "eeecbdcb36233e2fcbab9f6769ae217514c6a1666bb0c786a66fb80ba08763d1"
  },
  "kernelspec": {
   "display_name": "Python 3.10.0 64-bit",
   "language": "python",
   "name": "python3"
  },
  "language_info": {
   "codemirror_mode": {
    "name": "ipython",
    "version": 3
   },
   "file_extension": ".py",
   "mimetype": "text/x-python",
   "name": "python",
   "nbconvert_exporter": "python",
   "pygments_lexer": "ipython3",
   "version": "3.10.0"
  },
  "orig_nbformat": 4
 },
 "nbformat": 4,
 "nbformat_minor": 2
}
