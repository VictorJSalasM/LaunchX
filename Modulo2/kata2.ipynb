{
 "cells": [
  {
   "cell_type": "markdown",
   "metadata": {},
   "source": [
    "## Modulo 2 Entorno virtual\n",
    "Por Victor Jair Salas"
   ]
  },
  {
   "cell_type": "markdown",
   "metadata": {},
   "source": [
    "Para crear un entorno virtual\n",
    "\n",
    "python -m venv nombre\n",
    "\n",
    "cd \"ubicacion\" \n",
    "\n",
    "Scripts/activate\n",
    "pip install python-dateutil\n",
    "pip freeze para ver que bibliotecas tenemos instaladas\n",
    "Para desactivar se usa deactivate"
   ]
  }
 ],
 "metadata": {
  "language_info": {
   "name": "python"
  },
  "orig_nbformat": 4
 },
 "nbformat": 4,
 "nbformat_minor": 2
}
