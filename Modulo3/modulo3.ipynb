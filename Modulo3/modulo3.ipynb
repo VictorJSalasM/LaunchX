{
 "cells": [
  {
   "cell_type": "markdown",
   "metadata": {},
   "source": [
    "# Ejercicio escribir if, else if y elif"
   ]
  },
  {
   "cell_type": "code",
   "execution_count": 1,
   "metadata": {},
   "outputs": [
    {
     "name": "stdout",
     "output_type": "stream",
     "text": [
      "Advertencia, asteroide demasiado rapido\n"
     ]
    }
   ],
   "source": [
    "#Ejercicio 1\n",
    "asteroideEj1 = 49\n",
    "if asteroideEj1 > 25:\n",
    "    print(\"Advertencia, asteroide demasiado rapido\")\n",
    "else:\n",
    "    print(\"Nada de que preocuparse\")"
   ]
  },
  {
   "cell_type": "code",
   "execution_count": 5,
   "metadata": {},
   "outputs": [
    {
     "name": "stdout",
     "output_type": "stream",
     "text": [
      "No hay nada en el cielo\n"
     ]
    }
   ],
   "source": [
    "asteroideEj2 = 19\n",
    "if asteroideEj2 == 20:\n",
    "    print(\"Hay un asteroide en el cielo\")\n",
    "elif asteroideEj2 > 20:\n",
    "    print(\"Hay un asteroide en el cielo\")\n",
    "else:\n",
    "    print(\"No hay nada en el cielo\")"
   ]
  },
  {
   "cell_type": "code",
   "execution_count": 6,
   "metadata": {},
   "outputs": [
    {
     "name": "stdout",
     "output_type": "stream",
     "text": [
      "No pasa nada\n"
     ]
    }
   ],
   "source": [
    "velocidad = 0\n",
    "asteroideEj3 = 0\n",
    "if velocidad > 25 and asteroideEj3 > 25:\n",
    "    print(\"Vamos a morir!!!!!!\")\n",
    "elif velocidad >= 20:\n",
    "    print(\"Ve al cielo\")\n",
    "else:\n",
    "    print(\"No pasa nada\")"
   ]
  }
 ],
 "metadata": {
  "interpreter": {
   "hash": "eeecbdcb36233e2fcbab9f6769ae217514c6a1666bb0c786a66fb80ba08763d1"
  },
  "kernelspec": {
   "display_name": "Python 3.10.0 64-bit",
   "language": "python",
   "name": "python3"
  },
  "language_info": {
   "codemirror_mode": {
    "name": "ipython",
    "version": 3
   },
   "file_extension": ".py",
   "mimetype": "text/x-python",
   "name": "python",
   "nbconvert_exporter": "python",
   "pygments_lexer": "ipython3",
   "version": "3.10.0"
  },
  "orig_nbformat": 4
 },
 "nbformat": 4,
 "nbformat_minor": 2
}
