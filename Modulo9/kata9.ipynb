{
 "cells": [
  {
   "cell_type": "markdown",
   "metadata": {},
   "source": [
    "# Kata 9\n",
    "Por Victor Jair Salas"
   ]
  },
  {
   "cell_type": "code",
   "execution_count": 21,
   "metadata": {},
   "outputs": [
    {
     "name": "stdout",
     "output_type": "stream",
     "text": [
      "15.333333333333334\n",
      "Promedio: 39.333333333333336\n",
      "          Tanque 1 13\n",
      "          Tanque 2 16\n",
      "          Tanque 3 89\n"
     ]
    }
   ],
   "source": [
    "# Función para leer 3 tanques de combustible y muestre el promedio\n",
    "def promedio_combustible(c1, c2, c3):\n",
    "    promedio = (c1+c2+c3) / 3\n",
    "    return promedio\n",
    "\n",
    "#Llamamos a la función\n",
    "print(promedio_combustible(12,15,19))\n",
    "\n",
    "# Función promedio \n",
    "\n",
    "def nuevo_promedio(valor):\n",
    "    suma = sum(valor)\n",
    "    valores = len(valor)\n",
    "    promedio = suma / valores\n",
    "    return promedio\n",
    "\n",
    "# Actualiza la función\n",
    "\n",
    "def reporte(c1,c2,c3):\n",
    "    print(f\"\"\"Promedio: {nuevo_promedio([c1,c2,c3])}\n",
    "          Tanque 1 {c1}\n",
    "          Tanque 2 {c2}\n",
    "          Tanque 3 {c3}\"\"\")\n",
    "    \n",
    "reporte(13,16,89)"
   ]
  },
  {
   "cell_type": "markdown",
   "metadata": {},
   "source": [
    "Ejercicio 2"
   ]
  },
  {
   "cell_type": "code",
   "execution_count": 22,
   "metadata": {},
   "outputs": [
    {
     "name": "stdout",
     "output_type": "stream",
     "text": [
      "Tiempo total: 39\n",
      "Destino: Moon\n",
      "Combustible total: 112\n",
      "\n",
      "Destino: Luna\n",
      "Tiempo total de vuelo: 39\n",
      "Combustible: 7500\n",
      "\n",
      "Destino: Luna\n",
      "Tiempo total de vuelo: 39\n",
      "Combustible: 7500\n",
      "Interno tiene 2500\n",
      "Externo tiene 5000\n"
     ]
    }
   ],
   "source": [
    "# Función con un informe preciso de la misión. Considera hora de prelanzamiento, tiempo de vuelo, destino, tanque externo y tanque interno\n",
    "def informe(hora, tiempo, destino, tnk_int, tnk_ext):\n",
    "    print(f\"\"\"Tiempo total: {hora+tiempo}\n",
    "Destino: {destino}\n",
    "Combustible total: {tnk_ext+tnk_int}\"\"\")\n",
    "\n",
    "informe(16,23,\"Moon\",56,56)\n",
    "\n",
    "# Escribe tu nueva función de reporte considerando lo anterior\n",
    "\n",
    "def informe(destino, *tiempo, **combustuble):\n",
    "    return f\"\"\"\n",
    "Destino: {destino}\n",
    "Tiempo total de vuelo: {sum(tiempo)}\n",
    "Combustible: {sum(combustuble.values())}\"\"\"\n",
    "\n",
    "print(informe(\"Luna\", 12, 13, 14, Interno = 2500, Externo = 5000))\n",
    "\n",
    "\n",
    "# Escribe tu nueva función\n",
    "def informe(destino, *tiempo, **combustuble):\n",
    "    reporte_principal = f\"\"\"\n",
    "Destino: {destino}\n",
    "Tiempo total de vuelo: {sum(tiempo)}\n",
    "Combustible: {sum(combustuble.values())}\"\"\"\n",
    "    for nombre_tanque, valor_tanque in combustuble.items():\n",
    "        reporte_principal = reporte_principal + f\"\\n{nombre_tanque} tiene {valor_tanque}\"\n",
    "    \n",
    "    return reporte_principal\n",
    "\n",
    "\n",
    "print(informe(\"Luna\", 12, 13, 14, Interno = 2500, Externo = 5000))    "
   ]
  }
 ],
 "metadata": {
  "interpreter": {
   "hash": "eeecbdcb36233e2fcbab9f6769ae217514c6a1666bb0c786a66fb80ba08763d1"
  },
  "kernelspec": {
   "display_name": "Python 3.10.0 64-bit",
   "language": "python",
   "name": "python3"
  },
  "language_info": {
   "codemirror_mode": {
    "name": "ipython",
    "version": 3
   },
   "file_extension": ".py",
   "mimetype": "text/x-python",
   "name": "python",
   "nbconvert_exporter": "python",
   "pygments_lexer": "ipython3",
   "version": "3.10.0"
  },
  "orig_nbformat": 4
 },
 "nbformat": 4,
 "nbformat_minor": 2
}
