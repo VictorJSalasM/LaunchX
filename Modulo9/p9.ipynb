{
 "cells": [
  {
   "cell_type": "markdown",
   "metadata": {},
   "source": [
    "# Modulo 9\n",
    "Por Victor Jair Salas"
   ]
  },
  {
   "cell_type": "code",
   "execution_count": 22,
   "metadata": {},
   "outputs": [
    {
     "data": {
      "text/plain": [
       "'15'"
      ]
     },
     "execution_count": 22,
     "metadata": {},
     "output_type": "execute_result"
    }
   ],
   "source": [
    "#Funciones sin argumentos\n",
    "def rocket_parts():\n",
    "    #print(\"Payload, propellant, structure\")\n",
    "    return \"Payload, propellant, structure\"\n",
    "\n",
    "output = rocket_parts()\n",
    "\n",
    "output is None\n",
    "\n",
    "any([True, False, False])\n",
    "str(15)\n"
   ]
  },
  {
   "cell_type": "code",
   "execution_count": 23,
   "metadata": {},
   "outputs": [
    {
     "data": {
      "text/plain": [
       "'Unable to compute that destination'"
      ]
     },
     "execution_count": 23,
     "metadata": {},
     "output_type": "execute_result"
    }
   ],
   "source": [
    "#Funciones con argumentos\n",
    "def distance_from_earth(destination):\n",
    "    if destination == \"Moon\":\n",
    "        return \"238,855\"\n",
    "    else:\n",
    "        return \"Unable to compute that destination\"\n",
    "\n",
    "#distance_from_earth()\n",
    "#distance_from_earth(\"Moon\")\n",
    "distance_from_earth(\"Saturn\")\n"
   ]
  },
  {
   "cell_type": "code",
   "execution_count": 24,
   "metadata": {},
   "outputs": [
    {
     "data": {
      "text/plain": [
       "133"
      ]
     },
     "execution_count": 24,
     "metadata": {},
     "output_type": "execute_result"
    }
   ],
   "source": [
    "#Funciones con mas de dos argumentos\n",
    "def days_to_complete(distance, speed):\n",
    "    hours = distance / speed\n",
    "    return hours/24\n",
    "\n",
    "round(days_to_complete(238855, 75))"
   ]
  },
  {
   "cell_type": "code",
   "execution_count": 25,
   "metadata": {},
   "outputs": [
    {
     "data": {
      "text/plain": [
       "'Moon Arrival: Wednesday 02:05'"
      ]
     },
     "execution_count": 25,
     "metadata": {},
     "output_type": "execute_result"
    }
   ],
   "source": [
    "#Argumentos con palabras clave\n",
    "from datetime import timedelta, datetime\n",
    "def arrival_time(destination, hours=51):\n",
    "    now = datetime.now()\n",
    "    arrival = now + timedelta(hours=hours)\n",
    "    return arrival.strftime(f'{destination} Arrival: %A %H:%M')\n",
    "arrival_time(\"Moon\", hours = 0.13)"
   ]
  },
  {
   "cell_type": "code",
   "execution_count": 26,
   "metadata": {},
   "outputs": [
    {
     "name": "stdout",
     "output_type": "stream",
     "text": [
      "(None,)\n",
      "{'tanks': 1, 'day': 'Wednesday', 'pilots': 3}\n",
      "3 astronauts for this mission:\n",
      "captain: Neil Amstrong\n",
      "pilot: Buzz Aldrin\n",
      "command_pilot: Michael Collins\n"
     ]
    }
   ],
   "source": [
    "#Argumentos de variable\n",
    "def variable_length(*args):\n",
    "    print(args)\n",
    "    \n",
    "variable_length(None)\n",
    "\n",
    "def sequence_time(*args):\n",
    "    total_minutes = sum(args)\n",
    "    if total_minutes < 60:\n",
    "        return f\"Total time to launch is {total_minutes} minutes\"\n",
    "    else:\n",
    "        return f\"Total time to launch is {total_minutes/60} hours\"\n",
    "\n",
    "sequence_time(15,12)\n",
    "\n",
    "#Argumentos de palabra clave variable\n",
    "\n",
    "def variable_length2(**kwargs):\n",
    "    print(kwargs)\n",
    "    \n",
    "variable_length2(tanks=1, day=\"Wednesday\", pilots=3)\n",
    "\n",
    "def crew_members(**kwargs):\n",
    "    print(f\"{len(kwargs)} astronauts for this mission:\")\n",
    "    for title, name in kwargs.items():\n",
    "        print(f\"{title}: {name}\")\n",
    "\n",
    "crew_members(captain = \"Neil Amstrong\", pilot = \"Buzz Aldrin\", command_pilot = \"Michael Collins\")\n"
   ]
  }
 ],
 "metadata": {
  "interpreter": {
   "hash": "eeecbdcb36233e2fcbab9f6769ae217514c6a1666bb0c786a66fb80ba08763d1"
  },
  "kernelspec": {
   "display_name": "Python 3.10.0 64-bit",
   "language": "python",
   "name": "python3"
  },
  "language_info": {
   "codemirror_mode": {
    "name": "ipython",
    "version": 3
   },
   "file_extension": ".py",
   "mimetype": "text/x-python",
   "name": "python",
   "nbconvert_exporter": "python",
   "pygments_lexer": "ipython3",
   "version": "3.10.0"
  },
  "orig_nbformat": 4
 },
 "nbformat": 4,
 "nbformat_minor": 2
}
